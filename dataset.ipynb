{
 "cells": [
  {
   "cell_type": "markdown",
   "metadata": {
    "collapsed": true,
    "pycharm": {
     "name": "#%% md\n"
    }
   },
   "source": [
    "##  Building a pull request classification dataset"
   ]
  },
  {
   "cell_type": "code",
   "execution_count": 13,
   "outputs": [],
   "source": [
    "import json\n",
    "import os\n",
    "\n",
    "import javalang\n",
    "import numpy as np\n",
    "from javalang.tokenizer import LexerError\n",
    "from unidiff import PatchSet\n",
    "\n",
    "\n",
    "# List of repositories that will make up the dataset\n",
    "repositories = ['spring-projects/spring-boot', \n",
    "                'spring-projects/spring-framework',\n",
    "                'spring-projects/spring-integration',\n",
    "                'spring-projects/spring-security']\n",
    "\n",
    "# Filename extension for code files\n",
    "code_ext = '.java'"
   ],
   "metadata": {
    "collapsed": false,
    "pycharm": {
     "name": "#%%\n",
     "is_executing": false
    }
   }
  },
  {
   "cell_type": "code",
   "execution_count": 14,
   "outputs": [],
   "source": [
    "def is_code_change(diff, code_ext):\n",
    "    \"\"\"\n",
    "    Returns true if the diff contains changes from at least one code file\n",
    "    :param diff: pull request diff\n",
    "    :param code_ext: filename extension for code files\n",
    "    :return: \n",
    "    \"\"\"\n",
    "    patch = PatchSet(diff)\n",
    "    for file in patch.added_files + patch.modified_files + patch.removed_files:\n",
    "        if os.path.splitext(file.path)[1] == code_ext:\n",
    "            return True\n",
    "    return False"
   ],
   "metadata": {
    "collapsed": false,
    "pycharm": {
     "name": "#%%\n",
     "is_executing": false
    }
   }
  },
  {
   "cell_type": "code",
   "execution_count": null,
   "outputs": [],
   "source": [
    "def get_tokens(code_changes):\n",
    "    \"\"\"\n",
    "    Returns tokens from Java code snippets.\n",
    "    NOTE: This requires well formed Java code as input and doesn't work on diffs\n",
    "    :param code_changes: Java code encoded as a string\n",
    "    :return: tokens extracted from the input code\n",
    "    \"\"\"\n",
    "    tokens  = list(), list()\n",
    "    \n",
    "    for file_changes in code_changes:\n",
    "        try:\n",
    "            file_tokens = (x.value.strip() for x in javalang.tokenizer.tokenize(file_changes))\n",
    "            tokens.append(' '.join(file_tokens)) #.encode('string-escape'))\n",
    "\n",
    "        except LexerError:\n",
    "            file_tokens = list()\n",
    "            lines = file_changes.split('\\n')\n",
    "            for line in lines:\n",
    "                try:\n",
    "                    line_tokens = [x.value.strip() for x in javalang.tokenizer.tokenize(line)]\n",
    "                    if line_tokens and line_tokens[0] != '*':\n",
    "                        file_tokens.append(' '.join(line_tokens)) #.encode('string-escape'))\n",
    "                except:\n",
    "                    pass\n",
    "            if file_tokens:\n",
    "                tokens.append(' '.join(file_tokens))    "
   ],
   "metadata": {
    "collapsed": false,
    "pycharm": {
     "name": "#%%\n"
    }
   }
  },
  {
   "cell_type": "code",
   "execution_count": 15,
   "outputs": [
    {
     "name": "stdout",
     "text": [
      "Number of labelled pull requests: 1989\n"
     ],
     "output_type": "stream"
    }
   ],
   "source": [
    "# List containing labelled pull requests\n",
    "labelled_prs = list()\n",
    "\n",
    "for repo_name in repositories:\n",
    "    # Load pull request metadata dict\n",
    "    with open(os.path.join('data', repo_name, 'pr_metadata.json'), 'r') as metadata_file:\n",
    "        metadata_dict = json.load(metadata_file)\n",
    "    \n",
    "    with open(os.path.join('data', repo_name, 'pr_diffs.json'), 'r') as diff_file:\n",
    "        diff_dict = json.load(diff_file)\n",
    "        \n",
    "    for pull_request in metadata_dict:\n",
    "        diff = diff_dict[str(pull_request['number'])]\n",
    "        if is_code_change(diff, code_ext):\n",
    "            for label in pull_request['labels']:\n",
    "                if label['name'].startswith('type'):\n",
    "                    labelled_prs.append((pull_request, diff))\n",
    "                    break\n",
    "\n",
    "print(\"Number of labelled pull requests:\", len(labelled_prs))"
   ],
   "metadata": {
    "collapsed": false,
    "pycharm": {
     "name": "#%%\n",
     "is_executing": false
    }
   }
  },
  {
   "cell_type": "code",
   "execution_count": null,
   "outputs": [],
   "source": [
    "# List containing all the dataset samples\n",
    "dataset = list()\n",
    "\n",
    "for pull_request, diff in labelled_prs:\n",
    "    diff_changes = list()\n",
    "    patch = PatchSet(diff)\n",
    "    for file in patch.added_files + patch.modified_files + patch.removed_files:\n",
    "        if os.path.splitext(file.path)[1] == code_ext:\n",
    "            file_changes = list()\n",
    "            for hunk in file:\n",
    "                for line in hunk:\n",
    "                    if not line.value.isspace():\n",
    "                        file_changes.append(' '.join(line.value.split()))\n",
    "            diff_changes.append('\\n'.join(file_changes))\n",
    "                \n",
    "train_split, dev_split, test_split = (list(x) for x in split_dataset(np.array(dataset, dtype='O'), groups))\n",
    "\n",
    "with open('train.tsv', 'w') as tsv_file:\n",
    "    tsv_file.write('\\n'.join(['\\t'.join(x) for x in train_split]))\n",
    "with open('dev.tsv', 'w') as tsv_file:\n",
    "    tsv_file.write('\\n'.join(['\\t'.join(x) for x in dev_split]))\n",
    "with open('test.tsv', 'w') as tsv_file:\n",
    "    tsv_file.write('\\n'.join(['\\t'.join(x) for x in test_split]))\n"
   ],
   "metadata": {
    "collapsed": false,
    "pycharm": {
     "name": "#%%\n"
    }
   }
  }
 ],
 "metadata": {
  "language_info": {
   "codemirror_mode": {
    "name": "ipython",
    "version": 2
   },
   "file_extension": ".py",
   "mimetype": "text/x-python",
   "name": "python",
   "nbconvert_exporter": "python",
   "pygments_lexer": "ipython2",
   "version": "2.7.6"
  },
  "kernelspec": {
   "name": "python3",
   "language": "python",
   "display_name": "Python 3"
  },
  "pycharm": {
   "stem_cell": {
    "cell_type": "raw",
    "source": [],
    "metadata": {
     "collapsed": false
    }
   }
  }
 },
 "nbformat": 4,
 "nbformat_minor": 0
}