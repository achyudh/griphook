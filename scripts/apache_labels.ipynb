{
 "cells": [
  {
   "cell_type": "code",
   "execution_count": 1,
   "metadata": {
    "collapsed": true,
    "pycharm": {
     "is_executing": false
    }
   },
   "outputs": [],
   "source": [
    "import json\n",
    "import os\n",
    "from collections import defaultdict\n",
    "\n",
    "import requests\n",
    "\n",
    "\n",
    "# List of repositories that will make up the dataset\n",
    "repositories = ['apache/hbase', 'apache/kafka', 'apache/kylin']\n",
    "\n",
    "# Filename extension for code files\n",
    "code_ext = '.java'"
   ]
  },
  {
   "cell_type": "code",
   "execution_count": 2,
   "outputs": [],
   "source": [
    "def get_commit_tag(repo_name, commit_message):\n",
    "    if repo_name in {'apache/flink', 'apache/beam'}:\n",
    "        commit_tag = commit_message.split(']')[0]\n",
    "\n",
    "        if commit_tag[0] == '[':\n",
    "            commit_tag = commit_tag[1:]\n",
    "        return commit_tag\n",
    "\n",
    "    else:\n",
    "        commit_tag = commit_message.split()[0]\n",
    "\n",
    "        if commit_tag[-1] in {'.', ':', '.', ']'}:\n",
    "            return commit_tag[:-1]\n",
    "        else:\n",
    "            return commit_tag\n",
    "\n",
    "def get_commit_label(commit_tag):\n",
    "    issue_type = None\n",
    "    request_url = 'https://issues.apache.org/jira/rest/api/2/issue/'\n",
    "    \n",
    "    try:\n",
    "        response = requests.get(request_url + commit_tag).json()\n",
    "        issue_type = response['fields']['issuetype']['name']\n",
    "            \n",
    "    except Exception as e:\n",
    "        print('Exception processing %s:' % commit_tag, e)\n",
    "    \n",
    "    return issue_type"
   ],
   "metadata": {
    "collapsed": false,
    "pycharm": {
     "name": "#%%\n",
     "is_executing": false
    }
   }
  },
  {
   "cell_type": "code",
   "execution_count": 3,
   "outputs": [
    {
     "name": "stdout",
     "text": [
      "Exception processing Revert: 'fields'\n",
      "Exception processing Revert: 'fields'\n",
      "Exception processing Revert: 'fields'\n",
      "Exception processing Revert: 'fields'\n",
      "Number of labelled commits: 96\nDataset distribution: defaultdict(<class 'int'>, {'Bug': 46, 'Improvement': 21, 'Sub-task': 24, 'New Feature': 2, 'Task': 3})\n"
     ],
     "output_type": "stream"
    }
   ],
   "source": [
    "for repo_name in repositories:\n",
    "    # List containing labelled pull requests\n",
    "    labels = dict()\n",
    "    label_counts = defaultdict(int)\n",
    "\n",
    "    # Load commit metadata dict\n",
    "    metadata_path = os.path.join(os.pardir, 'data', 'commits', repo_name, 'commit_metadata.json')\n",
    "    with open(metadata_path, 'r') as metadata_file:\n",
    "        metadata_dict = json.load(metadata_file)\n",
    "    \n",
    "    num_processed = 0\n",
    "    for commit in metadata_dict:\n",
    "        commit_tag = get_commit_tag(repo_name, commit['commit']['message'])\n",
    "        commit_label = get_commit_label(commit_tag)\n",
    "        if commit_label:\n",
    "            labels[commit['sha']] = commit_label\n",
    "            label_counts[commit_label] += 1\n",
    "        \n",
    "        num_processed += 1\n",
    "        if num_processed % 100 == 0:\n",
    "            print('Processed %d of %d commits in %s' % \n",
    "                  (num_processed, len(metadata_dict), repo_name))\n",
    "    \n",
    "    label_path = os.path.join(os.pardir, 'data', 'commits', repo_name, 'commit_labels.json')\n",
    "    with open(label_path, 'w') as json_file:\n",
    "        json.dump(labels, json_file)\n",
    "    \n",
    "    print(\"Number of labelled commits:\", len(labels))\n",
    "    print(\"Dataset distribution:\", label_counts)"
   ],
   "metadata": {
    "collapsed": false,
    "pycharm": {
     "name": "#%%\n",
     "is_executing": false
    }
   }
  }
 ],
 "metadata": {
  "language_info": {
   "codemirror_mode": {
    "name": "ipython",
    "version": 2
   },
   "file_extension": ".py",
   "mimetype": "text/x-python",
   "name": "python",
   "nbconvert_exporter": "python",
   "pygments_lexer": "ipython2",
   "version": "2.7.6"
  },
  "kernelspec": {
   "name": "python3",
   "language": "python",
   "display_name": "Python 3"
  },
  "pycharm": {
   "stem_cell": {
    "cell_type": "raw",
    "source": [],
    "metadata": {
     "collapsed": false
    }
   }
  }
 },
 "nbformat": 4,
 "nbformat_minor": 0
}