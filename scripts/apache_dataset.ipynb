{
 "cells": [
  {
   "cell_type": "markdown",
   "source": [
    "##  Building a commit classification dataset"
   ],
   "metadata": {
    "collapsed": false
   }
  },
  {
   "cell_type": "code",
   "execution_count": 1,
   "outputs": [],
   "source": [
    "import json\n",
    "import os\n",
    "from collections import defaultdict\n",
    "\n",
    "import javalang\n",
    "from sklearn.model_selection import train_test_split\n",
    "from unidiff import PatchSet\n",
    "\n",
    "\n",
    "# List of repositories that will make up the dataset\n",
    "repositories = ['apache/hadoop', 'apache/hive']\n",
    "\n",
    "label_encoding = {\n",
    "    'Bug': '001', \n",
    "    'Improvement': '010', \n",
    "    'Sub-task': '100'\n",
    "}\n",
    "\n",
    "# Filename extension for code files\n",
    "code_ext = '.java'"
   ],
   "metadata": {
    "collapsed": false,
    "pycharm": {
     "name": "#%%\n",
     "is_executing": false
    }
   }
  },
  {
   "cell_type": "code",
   "execution_count": 14,
   "outputs": [],
   "source": [
    "def is_ascii(string): \n",
    "    return all(ord(c) < 128 for c in string)\n",
    "\n",
    "def is_code_change(diff, code_ext):\n",
    "    \"\"\"\n",
    "    Returns true if the diff contains changes from at least one code file\n",
    "    :param diff: pull request diff\n",
    "    :param code_ext: filename extension for code files\n",
    "    :return: \n",
    "    \"\"\"\n",
    "    patch = PatchSet(diff)\n",
    "    for file in patch.added_files + patch.modified_files + patch.removed_files:\n",
    "        if os.path.splitext(file.path)[1] == code_ext:\n",
    "            return True\n",
    "    return False"
   ],
   "metadata": {
    "collapsed": false,
    "pycharm": {
     "name": "#%%\n",
     "is_executing": false
    }
   }
  },
  {
   "cell_type": "code",
   "execution_count": 15,
   "outputs": [],
   "source": [
    "def get_tokens(code_changes):\n",
    "    \"\"\"\n",
    "    Returns tokens from Java code snippets.\n",
    "    NOTE: This requires well formed Java code as input and doesn't work on diffs\n",
    "    :param code_changes: Java code encoded as a string\n",
    "    :return: tokens extracted from the input code\n",
    "    \"\"\"\n",
    "    file_tokens = list()\n",
    "\n",
    "    try:\n",
    "        file_tokens = [''.join(x.value.split()) for x in javalang.tokenizer.tokenize('\\n'.join(code_changes))\n",
    "                       if len(x.value.strip()) < 64 and is_ascii(x.value)]\n",
    "            \n",
    "    except:\n",
    "        for line in code_changes:\n",
    "            try:\n",
    "                line_tokens = [''.join(x.value.split()) for x in javalang.tokenizer.tokenize(line)\n",
    "                               if len(x.value.strip()) < 64 and is_ascii(x.value)]\n",
    "                if line_tokens and line_tokens[0] != '*':\n",
    "                    file_tokens.extend(line_tokens)\n",
    "            except:\n",
    "                pass\n",
    "\n",
    "    if file_tokens:\n",
    "        return ' '.join(file_tokens)\n",
    "    \n",
    "    return None"
   ],
   "metadata": {
    "collapsed": false,
    "pycharm": {
     "name": "#%%\n",
     "is_executing": false
    }
   }
  },
  {
   "cell_type": "code",
   "execution_count": 2,
   "outputs": [],
   "source": [
    "def split_dataset(dataset):\n",
    "    \"\"\"\n",
    "\n",
    "    :param data_x:\n",
    "    :param data_y:\n",
    "    :return:\n",
    "    \"\"\"\n",
    "    dataset_labels = [x[-1] for x in dataset]\n",
    "    train_split, test_split = train_test_split(dataset, stratify=dataset_labels, test_size=0.20, random_state=42)\n",
    "\n",
    "    train_labels = [x[-1] for x in train_split]\n",
    "    train_split, dev_split = train_test_split(train_split, stratify=train_labels, test_size=0.25, random_state=42)\n",
    "\n",
    "    print(\"Train, dev and test split sizes:\", len(train_split), len(dev_split), len(test_split))\n",
    "    return train_split, dev_split, test_split"
   ],
   "metadata": {
    "collapsed": false,
    "pycharm": {
     "name": "#%%\n",
     "is_executing": false
    }
   }
  },
  {
   "cell_type": "code",
   "execution_count": 9,
   "outputs": [
    {
     "traceback": [
      "\u001b[0;31m---------------------------------------------------------------------------\u001b[0m",
      "\u001b[0;31mNameError\u001b[0m                                 Traceback (most recent call last)",
      "\u001b[0;32m<ipython-input-9-b1a94f6f0fc7>\u001b[0m in \u001b[0;36m<module>\u001b[0;34m\u001b[0m\n\u001b[1;32m     14\u001b[0m     \u001b[0;32mfor\u001b[0m \u001b[0mcommit\u001b[0m \u001b[0;32min\u001b[0m \u001b[0mmetadata_dict\u001b[0m\u001b[0;34m:\u001b[0m\u001b[0;34m\u001b[0m\u001b[0;34m\u001b[0m\u001b[0m\n\u001b[1;32m     15\u001b[0m         \u001b[0mdiff\u001b[0m \u001b[0;34m=\u001b[0m \u001b[0mdiff_dict\u001b[0m\u001b[0;34m[\u001b[0m\u001b[0mcommit\u001b[0m\u001b[0;34m[\u001b[0m\u001b[0;34m'sha'\u001b[0m\u001b[0;34m]\u001b[0m\u001b[0;34m]\u001b[0m\u001b[0;34m\u001b[0m\u001b[0;34m\u001b[0m\u001b[0m\n\u001b[0;32m---> 16\u001b[0;31m         \u001b[0;32mif\u001b[0m \u001b[0mis_code_change\u001b[0m\u001b[0;34m(\u001b[0m\u001b[0mdiff\u001b[0m\u001b[0;34m,\u001b[0m \u001b[0mcode_ext\u001b[0m\u001b[0;34m)\u001b[0m\u001b[0;34m:\u001b[0m\u001b[0;34m\u001b[0m\u001b[0;34m\u001b[0m\u001b[0m\n\u001b[0m\u001b[1;32m     17\u001b[0m             \u001b[0mcommit_label\u001b[0m \u001b[0;34m=\u001b[0m \u001b[0mlabel_encoding\u001b[0m\u001b[0;34m.\u001b[0m\u001b[0mget\u001b[0m\u001b[0;34m(\u001b[0m\u001b[0mlabel_dict\u001b[0m\u001b[0;34m.\u001b[0m\u001b[0mget\u001b[0m\u001b[0;34m(\u001b[0m\u001b[0mcommit\u001b[0m\u001b[0;34m[\u001b[0m\u001b[0;34m'sha'\u001b[0m\u001b[0;34m]\u001b[0m\u001b[0;34m,\u001b[0m \u001b[0;32mNone\u001b[0m\u001b[0;34m)\u001b[0m\u001b[0;34m,\u001b[0m \u001b[0;32mNone\u001b[0m\u001b[0;34m)\u001b[0m\u001b[0;34m\u001b[0m\u001b[0;34m\u001b[0m\u001b[0m\n\u001b[1;32m     18\u001b[0m             \u001b[0;32mif\u001b[0m \u001b[0mcommit_label\u001b[0m\u001b[0;34m:\u001b[0m\u001b[0;34m\u001b[0m\u001b[0;34m\u001b[0m\u001b[0m\n",
      "\u001b[0;31mNameError\u001b[0m: name 'is_code_change' is not defined"
     ],
     "ename": "NameError",
     "evalue": "name 'is_code_change' is not defined",
     "output_type": "error"
    }
   ],
   "source": [
    "# List containing labelled pull requests\n",
    "labelled_commits = list()\n",
    "\n",
    "label_counts = defaultdict(int)\n",
    "for repo_name in repositories:\n",
    "    with open(os.path.join(os.pardir, 'data', 'commits', repo_name, 'commit_metadata.json'), 'r') as metadata_file:\n",
    "        metadata_dict = json.load(metadata_file)\n",
    "    with open(os.path.join(os.pardir, 'data', 'commits', repo_name, 'commit_labels.json'), 'r') as label_file:\n",
    "        label_dict = json.load(label_file)\n",
    "    with open(os.path.join(os.pardir, 'data', 'commits', repo_name, 'commit_diffs.json'), 'r') as diff_file:\n",
    "        diff_dict = json.load(diff_file)\n",
    "    \n",
    "    num_processed = 0\n",
    "    for commit in metadata_dict:\n",
    "        diff = diff_dict[commit['sha']]\n",
    "        if is_code_change(diff, code_ext):\n",
    "            commit_label = label_encoding.get(label_dict.get(commit['sha'], None), None)\n",
    "            if commit_label:\n",
    "                labelled_commits.append((commit, repo_name, diff, commit_label))\n",
    "                label_counts[commit_label] += 1\n",
    "        \n",
    "        num_processed += 1\n",
    "        if num_processed % 1000 == 0:\n",
    "            print('Processed %d of %d commits in %s' % \n",
    "                  (num_processed, len(metadata_dict), repo_name))\n",
    "\n",
    "print(\"Number of labelled pull requests:\", len(labelled_commits))\n",
    "print(\"Dataset distribution:\", label_counts)"
   ],
   "metadata": {
    "collapsed": false,
    "pycharm": {
     "name": "#%%\n",
     "is_executing": false
    }
   }
  },
  {
   "cell_type": "code",
   "execution_count": 10,
   "outputs": [],
   "source": [
    "# List containing all the dataset samples\n",
    "dataset = list()\n",
    "\n",
    "for commit, repo_name, diff, label in labelled_commits:\n",
    "    diff_changes = list()\n",
    "    patch = PatchSet(diff)\n",
    "    \n",
    "    for file in patch.added_files + patch.modified_files + patch.removed_files:\n",
    "        if os.path.splitext(file.path)[1] == code_ext:\n",
    "            file_changes = list()\n",
    "            \n",
    "            for hunk in file:\n",
    "                for line in hunk:\n",
    "                    file_changes.append(line.value)\n",
    "            \n",
    "            file_tokens = get_tokens(file_changes)\n",
    "            if file_tokens:\n",
    "                diff_changes.append(file_tokens)\n",
    "    \n",
    "    if diff_changes:\n",
    "        dataset.append((repo_name, \n",
    "                        commit['sha'], \n",
    "                        json.dumps(diff_changes), \n",
    "                        label))"
   ],
   "metadata": {
    "collapsed": false,
    "pycharm": {
     "name": "#%%\n",
     "is_executing": false
    }
   }
  },
  {
   "cell_type": "code",
   "execution_count": 3,
   "outputs": [
    {
     "traceback": [
      "\u001b[0;31m---------------------------------------------------------------------------\u001b[0m",
      "\u001b[0;31mNameError\u001b[0m                                 Traceback (most recent call last)",
      "\u001b[0;32m<ipython-input-3-ad029ffa97b4>\u001b[0m in \u001b[0;36m<module>\u001b[0;34m\u001b[0m\n\u001b[0;32m----> 1\u001b[0;31m \u001b[0mtrain_split\u001b[0m\u001b[0;34m,\u001b[0m \u001b[0mdev_split\u001b[0m\u001b[0;34m,\u001b[0m \u001b[0mtest_split\u001b[0m \u001b[0;34m=\u001b[0m \u001b[0msplit_dataset\u001b[0m\u001b[0;34m(\u001b[0m\u001b[0mdataset\u001b[0m\u001b[0;34m)\u001b[0m\u001b[0;34m\u001b[0m\u001b[0;34m\u001b[0m\u001b[0m\n\u001b[0m\u001b[1;32m      2\u001b[0m \u001b[0;34m\u001b[0m\u001b[0m\n\u001b[1;32m      3\u001b[0m \u001b[0;32mwith\u001b[0m \u001b[0mopen\u001b[0m\u001b[0;34m(\u001b[0m\u001b[0mos\u001b[0m\u001b[0;34m.\u001b[0m\u001b[0mpath\u001b[0m\u001b[0;34m.\u001b[0m\u001b[0mjoin\u001b[0m\u001b[0;34m(\u001b[0m\u001b[0mos\u001b[0m\u001b[0;34m.\u001b[0m\u001b[0mpardir\u001b[0m\u001b[0;34m,\u001b[0m \u001b[0;34m'data'\u001b[0m\u001b[0;34m,\u001b[0m \u001b[0;34m'commits'\u001b[0m\u001b[0;34m,\u001b[0m \u001b[0;34m'apache'\u001b[0m\u001b[0;34m,\u001b[0m \u001b[0;34m'train.tsv'\u001b[0m\u001b[0;34m)\u001b[0m\u001b[0;34m,\u001b[0m \u001b[0;34m'w'\u001b[0m\u001b[0;34m)\u001b[0m \u001b[0;32mas\u001b[0m \u001b[0mtsv_file\u001b[0m\u001b[0;34m:\u001b[0m\u001b[0;34m\u001b[0m\u001b[0;34m\u001b[0m\u001b[0m\n\u001b[1;32m      4\u001b[0m     \u001b[0mtsv_file\u001b[0m\u001b[0;34m.\u001b[0m\u001b[0mwrite\u001b[0m\u001b[0;34m(\u001b[0m\u001b[0;34m'\\n'\u001b[0m\u001b[0;34m.\u001b[0m\u001b[0mjoin\u001b[0m\u001b[0;34m(\u001b[0m\u001b[0;34m'\\t'\u001b[0m\u001b[0;34m.\u001b[0m\u001b[0mjoin\u001b[0m\u001b[0;34m(\u001b[0m\u001b[0mstr\u001b[0m\u001b[0;34m(\u001b[0m\u001b[0my\u001b[0m\u001b[0;34m)\u001b[0m \u001b[0;32mfor\u001b[0m \u001b[0my\u001b[0m \u001b[0;32min\u001b[0m \u001b[0mx\u001b[0m\u001b[0;34m)\u001b[0m \u001b[0;32mfor\u001b[0m \u001b[0mx\u001b[0m \u001b[0;32min\u001b[0m \u001b[0mtrain_split\u001b[0m\u001b[0;34m)\u001b[0m\u001b[0;34m)\u001b[0m\u001b[0;34m\u001b[0m\u001b[0;34m\u001b[0m\u001b[0m\n\u001b[1;32m      5\u001b[0m \u001b[0;32mwith\u001b[0m \u001b[0mopen\u001b[0m\u001b[0;34m(\u001b[0m\u001b[0mos\u001b[0m\u001b[0;34m.\u001b[0m\u001b[0mpath\u001b[0m\u001b[0;34m.\u001b[0m\u001b[0mjoin\u001b[0m\u001b[0;34m(\u001b[0m\u001b[0mos\u001b[0m\u001b[0;34m.\u001b[0m\u001b[0mpardir\u001b[0m\u001b[0;34m,\u001b[0m \u001b[0;34m'data'\u001b[0m\u001b[0;34m,\u001b[0m \u001b[0;34m'commits'\u001b[0m\u001b[0;34m,\u001b[0m \u001b[0;34m'apache'\u001b[0m\u001b[0;34m,\u001b[0m \u001b[0;34m'dev.tsv'\u001b[0m\u001b[0;34m)\u001b[0m\u001b[0;34m,\u001b[0m \u001b[0;34m'w'\u001b[0m\u001b[0;34m)\u001b[0m \u001b[0;32mas\u001b[0m \u001b[0mtsv_file\u001b[0m\u001b[0;34m:\u001b[0m\u001b[0;34m\u001b[0m\u001b[0;34m\u001b[0m\u001b[0m\n",
      "\u001b[0;31mNameError\u001b[0m: name 'dataset' is not defined"
     ],
     "ename": "NameError",
     "evalue": "name 'dataset' is not defined",
     "output_type": "error"
    }
   ],
   "source": [
    "train_split, dev_split, test_split = split_dataset(dataset)\n",
    "\n",
    "with open(os.path.join(os.pardir, 'data', 'commits', 'apache', 'train.tsv'), 'w') as tsv_file:\n",
    "    tsv_file.write('\\n'.join('\\t'.join(str(y) for y in x) for x in train_split))\n",
    "with open(os.path.join(os.pardir, 'data', 'commits', 'apache', 'dev.tsv'), 'w') as tsv_file:\n",
    "    tsv_file.write('\\n'.join('\\t'.join(str(y) for y in x) for x in dev_split))\n",
    "with open(os.path.join(os.pardir, 'data', 'commits', 'apache', 'test.tsv'), 'w') as tsv_file:\n",
    "    tsv_file.write('\\n'.join('\\t'.join(str(y) for y in x) for x in test_split))"
   ],
   "metadata": {
    "collapsed": false,
    "pycharm": {
     "name": "#%%\n",
     "is_executing": false
    }
   }
  },
  {
   "cell_type": "code",
   "execution_count": 14,
   "outputs": [],
   "source": [
    "dataset = list()\n",
    "with open(os.path.join(os.pardir, 'data', 'commits', 'apache', 'train.tsv')) as tsv_file:\n",
    "    for line in tsv_file:\n",
    "        line_split = line.split('\\t')\n",
    "        dataset.append((line_split[0], line_split[1], json.loads(line_split[2]), line_split[3].strip()))\n",
    "\n",
    "with open(os.path.join(os.pardir, 'data', 'commits', 'apache', 'dev.tsv')) as tsv_file:\n",
    "    for line in tsv_file:\n",
    "        line_split = line.split('\\t')\n",
    "        dataset.append((line_split[0], line_split[1], json.loads(line_split[2]), line_split[3].strip()))\n",
    "        \n",
    "with open(os.path.join(os.pardir, 'data', 'commits', 'apache', 'test.tsv')) as tsv_file:\n",
    "    for line in tsv_file:\n",
    "        line_split = line.split('\\t')\n",
    "        dataset.append((line_split[0], line_split[1], json.loads(line_split[2]), line_split[3].strip()))\n",
    "    "
   ],
   "metadata": {
    "collapsed": false,
    "pycharm": {
     "name": "#%%\n",
     "is_executing": false
    }
   }
  },
  {
   "cell_type": "code",
   "execution_count": 11,
   "outputs": [
    {
     "data": {
      "text/plain": "<Figure size 756x756 with 1 Axes>",
      "image/png": "[encoded data removed]"
     },
     "metadata": {
      "needs_background": "light"
     },
     "output_type": "display_data"
    }
   ],
   "source": [
    "import matplotlib.pyplot as plt\n",
    "import numpy as np\n",
    "from random import shuffle\n",
    "\n",
    "num_files = [len(x[2]) for x in dataset]\n",
    "\n",
    "d = np.sort(num_files)\n",
    "p = np.array([80.0, 90.0, 95.0, 99.0])\n",
    "\n",
    "perc = np.percentile(d, p)\n",
    "\n",
    "plt.plot(d)\n",
    "# Place red dots on the percentiles\n",
    "plt.plot((len(d)-1) * p/100., perc, 'ro')\n",
    "\n",
    "# Set tick locations and labels\n",
    "plt.xticks((len(d)-1) * p/100., map(str, p))\n",
    "\n",
    "# Set y-axis range\n",
    "axes = plt.gca()\n",
    "axes.set_ylim([0, 100])\n",
    "\n",
    "# Set figure size\n",
    "fig = plt.gcf()\n",
    "fig.set_size_inches(10.5, 10.5)\n",
    "\n",
    "plt.show()\n",
    "\n",
    "# Filter dataset by number of files changed\n",
    "# dataset = [x for x in dataset if len(x[2]) <= 22]"
   ],
   "metadata": {
    "collapsed": false,
    "pycharm": {
     "name": "#%%\n",
     "is_executing": false
    }
   }
  },
  {
   "cell_type": "code",
   "execution_count": 15,
   "outputs": [
    {
     "data": {
      "text/plain": "<Figure size 756x756 with 1 Axes>",
      "image/png": "[encoded data removed]"
     },
     "metadata": {
      "needs_background": "light"
     },
     "output_type": "display_data"
    }
   ],
   "source": [
    "plt.clf()\n",
    "\n",
    "num_lines = [sum(len(y.split()) for y in x[2]) for x in dataset]\n",
    "\n",
    "d = np.sort(num_lines)\n",
    "p = np.array([80.0, 90.0, 95.0, 99.0])\n",
    "\n",
    "perc = np.percentile(d, p)\n",
    "\n",
    "plt.plot(d)\n",
    "# Place red dots on the percentiles\n",
    "plt.plot((len(d)-1) * p/100., perc, 'ro')\n",
    "\n",
    "# Set tick locations and labels\n",
    "plt.xticks((len(d)-1) * p/100., map(str, p))\n",
    "\n",
    "# Set y-axis range\n",
    "axes = plt.gca()\n",
    "axes.set_ylim([0, 12000])\n",
    "\n",
    "# Set figure size\n",
    "fig = plt.gcf()\n",
    "fig.set_size_inches(10.5, 10.5)\n",
    "\n",
    "plt.show()\n",
    "\n",
    "# Filter dataset by number of lines changed\n",
    "# dataset = [x for x in dataset if sum(len(y.split()) for y in x[2]) <= 2680]"
   ],
   "metadata": {
    "collapsed": false,
    "pycharm": {
     "name": "#%%\n",
     "is_executing": false
    }
   }
  },
  {
   "cell_type": "code",
   "execution_count": 7,
   "outputs": [],
   "source": [
    "label_counts = defaultdict(int)\n",
    "for repo, sha, diff_changes, label in dataset:\n",
    "    label_counts[label] += 1\n",
    "min_count = min(label_counts.values())\n",
    "\n",
    "shuffle(dataset)\n",
    "balanced_dataset = list()\n",
    "label_counts = defaultdict(int)\n",
    "for repo, sha, diff_changes, label in dataset:\n",
    "    if label_counts[label] < min_count:\n",
    "        balanced_dataset.append((repo, sha, json.dumps(diff_changes), label))\n",
    "        label_counts[label] += 1"
   ],
   "metadata": {
    "collapsed": false,
    "pycharm": {
     "name": "#%%\n",
     "is_executing": false
    }
   }
  },
  {
   "cell_type": "code",
   "execution_count": 8,
   "outputs": [
    {
     "name": "stdout",
     "text": [
      "Train, dev and test split sizes: 13860 4620 4620\n"
     ],
     "output_type": "stream"
    }
   ],
   "source": [
    "train_split, dev_split, test_split = split_dataset(balanced_dataset)\n",
    "\n",
    "with open(os.path.join(os.pardir, 'data', 'commits', 'apache', 'train_bal.tsv'), 'w') as tsv_file:\n",
    "    tsv_file.write('\\n'.join('\\t'.join(str(y) for y in x) for x in train_split))\n",
    "with open(os.path.join(os.pardir, 'data', 'commits', 'apache', 'dev_bal.tsv'), 'w') as tsv_file:\n",
    "    tsv_file.write('\\n'.join('\\t'.join(str(y) for y in x) for x in dev_split))\n",
    "with open(os.path.join(os.pardir, 'data', 'commits', 'apache', 'test_bal.tsv'), 'w') as tsv_file:\n",
    "    tsv_file.write('\\n'.join('\\t'.join(str(y) for y in x) for x in test_split))"
   ],
   "metadata": {
    "collapsed": false,
    "pycharm": {
     "name": "#%%\n",
     "is_executing": false
    }
   }
  }
 ],
 "metadata": {
  "language_info": {
   "codemirror_mode": {
    "name": "ipython",
    "version": 2
   },
   "file_extension": ".py",
   "mimetype": "text/x-python",
   "name": "python",
   "nbconvert_exporter": "python",
   "pygments_lexer": "ipython2",
   "version": "2.7.6"
  },
  "kernelspec": {
   "name": "python3",
   "language": "python",
   "display_name": "Python 3"
  },
  "pycharm": {
   "stem_cell": {
    "cell_type": "raw",
    "source": [],
    "metadata": {
     "collapsed": false
    }
   }
  }
 },
 "nbformat": 4,
 "nbformat_minor": 0
}